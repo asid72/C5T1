{
 "cells": [
  {
   "cell_type": "code",
   "execution_count": 11,
   "metadata": {
    "scrolled": true
   },
   "outputs": [
    {
     "name": "stdout",
     "output_type": "stream",
     "text": [
      "            salary\n",
      "0     150000.00000\n",
      "1      82523.83897\n",
      "2     115646.63620\n",
      "3     141443.39330\n",
      "4     149211.27030\n",
      "5      46202.25297\n",
      "6     125821.24500\n",
      "7      20141.13742\n",
      "8     135261.85140\n",
      "9      83273.92858\n",
      "10     51475.90385\n",
      "11     60787.31789\n",
      "12     61494.52219\n",
      "13    125904.77050\n",
      "14     87232.20095\n",
      "15     28966.71843\n",
      "16     82393.18331\n",
      "17     27724.51808\n",
      "18     94998.07413\n",
      "19     56005.11925\n",
      "20     70241.27167\n",
      "21     91852.88014\n",
      "22     47920.93459\n",
      "23    125879.92630\n",
      "24    105885.11440\n",
      "25    140824.94410\n",
      "26     28483.92748\n",
      "27     58353.19031\n",
      "28    116269.45320\n",
      "29     36971.40098\n",
      "...            ...\n",
      "4970   70148.91055\n",
      "4971   37510.28817\n",
      "4972   79318.09958\n",
      "4973   43244.40398\n",
      "4974   31225.04873\n",
      "4975   65646.06408\n",
      "4976  148186.50170\n",
      "4977  125297.18960\n",
      "4978   63499.02428\n",
      "4979   50583.96651\n",
      "4980  144178.15270\n",
      "4981   39320.44388\n",
      "4982   23709.22790\n",
      "4983   20000.00000\n",
      "4984  124260.08690\n",
      "4985  125349.61440\n",
      "4986  143696.97860\n",
      "4987   23593.28102\n",
      "4988  129574.03870\n",
      "4989  126552.12170\n",
      "4990  102457.72740\n",
      "4991  134544.76480\n",
      "4992  150000.00000\n",
      "4993   54781.68022\n",
      "4994   29945.49220\n",
      "4995   83891.55966\n",
      "4996  125979.28910\n",
      "4997   74064.71053\n",
      "4998  106485.56710\n",
      "4999   50333.57979\n",
      "\n",
      "[5000 rows x 1 columns]\n"
     ]
    }
   ],
   "source": [
    "import pandas as pd\n",
    "titanic = pd.io.parsers.read_csv(\"SurveyIncomplete.csv\")\n",
    "X = titanic[['salary']]\n",
    "print(X)"
   ]
  },
  {
   "cell_type": "markdown",
   "metadata": {},
   "source": [
    "Issues I had to Handle?\n",
    "    \n",
    "    I needed to install libraries to my jupyter notebook. I have used VS Code before to do pip instal through terminal but not through Jupyter. Instead of creating a new terminal seperately, You can type in \"!pip install\" instead."
   ]
  },
  {
   "cell_type": "markdown",
   "metadata": {},
   "source": [
    "Was it straightforward to install Python and all of the libraries?\n",
    "    \n",
    "    Installing Libraries was pretty simple. Pip helped alot in installing the libraries. Interestingly, I can install libraries through Jupyter Notebook by typeing \"!pip install\" plus library name.\n",
    "\n",
    "Was the tutorial useful? Would you recommend it to others?\n",
    "\n",
    "    The Tutorials for Python for dummies was very useful. I would definintely recommend.\n",
    "\n",
    "What are the main lessons you've learned from this experience?\n",
    "\n",
    "    Python is very similiar to R but there are a few differences. Simplicity between R and Python are pretty close.\n",
    "    I learned the differences between different list types(Sets, Tuples and Lists) and Dictionaries.Filtering through these different types of data"
   ]
  }
 ],
 "metadata": {
  "kernelspec": {
   "display_name": "Python 3",
   "language": "python",
   "name": "python3"
  },
  "language_info": {
   "codemirror_mode": {
    "name": "ipython",
    "version": 3
   },
   "file_extension": ".py",
   "mimetype": "text/x-python",
   "name": "python",
   "nbconvert_exporter": "python",
   "pygments_lexer": "ipython3",
   "version": "3.6.5"
  }
 },
 "nbformat": 4,
 "nbformat_minor": 2
}
